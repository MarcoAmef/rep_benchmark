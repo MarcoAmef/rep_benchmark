{
 "cells": [
  {
   "cell_type": "code",
   "execution_count": 2,
   "metadata": {},
   "outputs": [
    {
     "name": "stdout",
     "output_type": "stream",
     "text": [
      "Métricas do sistema salvas em metricas_sistema.csv com sucesso!\n"
     ]
    }
   ],
   "source": [
    "import psutil\n",
    "import csv\n",
    "import datetime\n",
    "import os\n",
    "import time\n",
    "\n",
    "nome_arquivo = 'metricas_sistema.csv'\n",
    "\n",
    "arquivo_existe = os.path.isfile(nome_arquivo)\n",
    "\n",
    "for _ in range(5):\n",
    "    uso_cpu = psutil.cpu_percent(interval=1) \n",
    "    uso_memoria = psutil.virtual_memory().percent  \n",
    "    uso_disco = psutil.disk_usage('/').percent  \n",
    "    data_hora = datetime.datetime.now().strftime('%Y-%m-%d %H:%M:%S')  \n",
    "\n",
    "    dados_metricas = [data_hora, uso_cpu, uso_memoria, uso_disco]\n",
    "\n",
    "    with open(nome_arquivo, mode='a', newline='') as arquivo_csv:\n",
    "        escritor_csv = csv.writer(arquivo_csv)\n",
    "        \n",
    "        if not arquivo_existe:\n",
    "            escritor_csv.writerow(['Data e Hora', 'Uso CPU (%)', 'Uso Memória (%)', 'Uso Disco (%)'])\n",
    "        \n",
    "        escritor_csv.writerow(dados_metricas)\n",
    "    time.sleep(1)\n",
    "\n",
    "print(f'Métricas do sistema salvas em {nome_arquivo} com sucesso!')"
   ]
  },
  {
   "cell_type": "code",
   "execution_count": null,
   "metadata": {},
   "outputs": [],
   "source": []
  }
 ],
 "metadata": {
  "kernelspec": {
   "display_name": "Python 3",
   "language": "python",
   "name": "python3"
  },
  "language_info": {
   "codemirror_mode": {
    "name": "ipython",
    "version": 3
   },
   "file_extension": ".py",
   "mimetype": "text/x-python",
   "name": "python",
   "nbconvert_exporter": "python",
   "pygments_lexer": "ipython3",
   "version": "3.13.0"
  }
 },
 "nbformat": 4,
 "nbformat_minor": 2
}
