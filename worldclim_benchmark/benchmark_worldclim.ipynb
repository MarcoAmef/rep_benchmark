{
  "cells": [
    {
      "cell_type": "code",
      "execution_count": null,
      "metadata": {
        "id": "WBxsnj84Ie4z"
      },
      "outputs": [],
      "source": [
        "%%capture\n",
        "!pip install pyspark raster2xyz"
      ]
    },
    {
      "cell_type": "code",
      "execution_count": null,
      "metadata": {
        "id": "fT7sKkYVI4lR"
      },
      "outputs": [],
      "source": [
        "import pandas as pd\n",
        "from pyspark.sql import SparkSession\n",
        "spark = SparkSession.builder.getOrCreate()\n",
        "from pyspark.sql.functions import col\n",
        "import timeit\n",
        "import json"
      ]
    },
    {
      "cell_type": "code",
      "execution_count": null,
      "metadata": {
        "id": "kdu0hdYJI411"
      },
      "outputs": [],
      "source": [
        "num_iteracao = 32"
      ]
    },
    {
      "cell_type": "code",
      "execution_count": null,
      "metadata": {
        "id": "nj1lU7QuI6LV"
      },
      "outputs": [],
      "source": [
        "lista_tempo_leitura = []"
      ]
    },
    {
      "cell_type": "code",
      "source": [
        "# Temperatura mínima:\n",
        "# 10m:https://biogeo.ucdavis.edu/data/worldclim/v2.1/base/wc2.1_10m_tmin.zip\n",
        "# 5m:https://biogeo.ucdavis.edu/data/worldclim/v2.1/base/wc2.1_5m_tmin.zip\n",
        "# 2.5m:https://biogeo.ucdavis.edu/data/worldclim/v2.1/base/wc2.1_2.5m_tmin.zip\n",
        "# 30s:https://biogeo.ucdavis.edu/data/worldclim/v2.1/base/wc2.1_30s_tmin.zip\n",
        "\n",
        "# Temperatura máxima:\n",
        "# 10m:https://biogeo.ucdavis.edu/data/worldclim/v2.1/base/wc2.1_10m_tmax.zip\n",
        "# 5m:https://biogeo.ucdavis.edu/data/worldclim/v2.1/base/wc2.1_5m_tmax.zip\n",
        "# 2.5m:https://biogeo.ucdavis.edu/data/worldclim/v2.1/base/wc2.1_2.5m_tmax.zip\n",
        "# 30s:https://biogeo.ucdavis.edu/data/worldclim/v2.1/base/wc2.1_30s_tmax.zip\n",
        "\n",
        "# Temperatura média:\n",
        "# 10m:https://biogeo.ucdavis.edu/data/worldclim/v2.1/base/wc2.1_10m_tavg.zip\n",
        "# 5m:https://biogeo.ucdavis.edu/data/worldclim/v2.1/base/wc2.1_5m_tavg.zip\n",
        "# 2.5m:https://biogeo.ucdavis.edu/data/worldclim/v2.1/base/wc2.1_2.5m_tavg.zip\n",
        "# 30s:https://biogeo.ucdavis.edu/data/worldclim/v2.1/base/wc2.1_30s_tavg.zip\n",
        "\n",
        "# Temperatura precipitação:\n",
        "# 10m:https://biogeo.ucdavis.edu/data/worldclim/v2.1/base/wc2.1_10m_prec.zip\n",
        "# 5m:https://biogeo.ucdavis.edu/data/worldclim/v2.1/base/wc2.1_5m_prec.zip\n",
        "# 2.5m:https://biogeo.ucdavis.edu/data/worldclim/v2.1/base/wc2.1_2.5m_prec.zip\n",
        "# 30s:https://biogeo.ucdavis.edu/data/worldclim/v2.1/base/wc2.1_30s_prec.zip"
      ],
      "metadata": {
        "id": "6go6pp-5xMUA"
      },
      "execution_count": null,
      "outputs": []
    },
    {
      "cell_type": "markdown",
      "metadata": {
        "id": "hnCXBvtQVZLD"
      },
      "source": [
        "# Tmax 10m"
      ]
    },
    {
      "cell_type": "code",
      "execution_count": null,
      "metadata": {
        "id": "HqzKrRPMVZnW",
        "colab": {
          "base_uri": "https://localhost:8080/"
        },
        "outputId": "073148e7-7da4-487d-e1da-618002ebb964"
      },
      "outputs": [
        {
          "output_type": "stream",
          "name": "stdout",
          "text": [
            "--2024-05-04 18:03:24--  https://biogeo.ucdavis.edu/data/worldclim/v2.1/base/wc2.1_10m_tmax.zip\n",
            "Resolving biogeo.ucdavis.edu (biogeo.ucdavis.edu)... 128.120.228.172\n",
            "Connecting to biogeo.ucdavis.edu (biogeo.ucdavis.edu)|128.120.228.172|:443... connected.\n",
            "HTTP request sent, awaiting response... 302 Found\n",
            "Location: https://data.biogeo.ucdavis.edu/data/worldclim/v2.1/base/wc2.1_10m_tmax.zip [following]\n",
            "--2024-05-04 18:03:25--  https://data.biogeo.ucdavis.edu/data/worldclim/v2.1/base/wc2.1_10m_tmax.zip\n",
            "Resolving data.biogeo.ucdavis.edu (data.biogeo.ucdavis.edu)... 128.120.228.172\n",
            "Connecting to data.biogeo.ucdavis.edu (data.biogeo.ucdavis.edu)|128.120.228.172|:443... connected.\n",
            "HTTP request sent, awaiting response... 200 OK\n",
            "Length: 37446442 (36M) [application/zip]\n",
            "Saving to: ‘wc2.1_10m_tmax.zip.1’\n",
            "\n",
            "wc2.1_10m_tmax.zip. 100%[===================>]  35.71M  29.2MB/s    in 1.2s    \n",
            "\n",
            "2024-05-04 18:03:26 (29.2 MB/s) - ‘wc2.1_10m_tmax.zip.1’ saved [37446442/37446442]\n",
            "\n",
            "Archive:  wc2.1_10m_tmax.zip\n",
            "  inflating: wc2.1_10m_tmax_01.tif   \n",
            "  inflating: wc2.1_10m_tmax_02.tif   \n",
            "  inflating: wc2.1_10m_tmax_03.tif   \n",
            "  inflating: wc2.1_10m_tmax_04.tif   \n",
            "  inflating: wc2.1_10m_tmax_05.tif   \n",
            "  inflating: wc2.1_10m_tmax_06.tif   \n",
            "  inflating: wc2.1_10m_tmax_07.tif   \n",
            "  inflating: wc2.1_10m_tmax_08.tif   \n",
            "  inflating: wc2.1_10m_tmax_09.tif   \n",
            "  inflating: wc2.1_10m_tmax_10.tif   \n",
            "  inflating: wc2.1_10m_tmax_11.tif   \n",
            "  inflating: wc2.1_10m_tmax_12.tif   \n"
          ]
        }
      ],
      "source": [
        "!wget https://biogeo.ucdavis.edu/data/worldclim/v2.1/base/wc2.1_10m_tmax.zip\n",
        "!unzip -o wc2.1_10m_tmax.zip"
      ]
    },
    {
      "cell_type": "code",
      "execution_count": null,
      "metadata": {
        "colab": {
          "base_uri": "https://localhost:8080/"
        },
        "id": "Yuujbz22VZrR",
        "outputId": "60807843-7752-444c-dcc3-ceb1f41da46c"
      },
      "outputs": [
        {
          "output_type": "stream",
          "name": "stdout",
          "text": [
            "[2024-05-04 06:03:29 - INFO] - Getting geotransform and data...\n",
            "[2024-05-04 06:03:29 - INFO] - Getting XYZ data...\n",
            "[2024-05-04 06:03:29 - INFO] - Getting geotransformed coordinates...\n",
            "[2024-05-04 06:03:29 - INFO] - Building XYZ data...\n",
            "[2024-05-04 06:03:48 - INFO] - New XYZ (csv file) created...\n"
          ]
        }
      ],
      "source": [
        "!raster2xyz wc2.1_10m_tmax_01.tif wc2.1_10m_tmax_01.csv"
      ]
    },
    {
      "cell_type": "code",
      "execution_count": null,
      "metadata": {
        "id": "JQSXyzt5VZtJ"
      },
      "outputs": [],
      "source": [
        "caminho = 'wc2.1_10m_tmax_01.csv' #Se for um arquivo local, colocar a path dele."
      ]
    },
    {
      "cell_type": "markdown",
      "source": [
        "##Pandas"
      ],
      "metadata": {
        "id": "92bpoaGkyAGQ"
      }
    },
    {
      "cell_type": "code",
      "execution_count": null,
      "metadata": {
        "id": "3YZag_rrVZxB"
      },
      "outputs": [],
      "source": [
        "def dataframe_pandas(path):\n",
        "  df_pandas = None\n",
        "  df_pandas = pd.read_csv(path)"
      ]
    },
    {
      "cell_type": "markdown",
      "source": [
        "###Usando %time"
      ],
      "metadata": {
        "id": "DmPgX4xQtDnn"
      }
    },
    {
      "cell_type": "code",
      "execution_count": null,
      "metadata": {
        "id": "rASxJp2iVtw4",
        "colab": {
          "base_uri": "https://localhost:8080/"
        },
        "outputId": "8eaf1188-b877-4f0c-881c-b8e98ef73b3b"
      },
      "outputs": [
        {
          "output_type": "stream",
          "name": "stdout",
          "text": [
            "CPU times: user 1.54 s, sys: 150 ms, total: 1.69 s\n",
            "Wall time: 1.85 s\n",
            "CPU times: user 1.64 s, sys: 220 ms, total: 1.86 s\n",
            "Wall time: 2.03 s\n",
            "CPU times: user 1.59 s, sys: 133 ms, total: 1.72 s\n",
            "Wall time: 1.84 s\n",
            "CPU times: user 1.56 s, sys: 122 ms, total: 1.68 s\n",
            "Wall time: 1.87 s\n",
            "CPU times: user 1.45 s, sys: 151 ms, total: 1.6 s\n",
            "Wall time: 1.78 s\n",
            "CPU times: user 1.44 s, sys: 125 ms, total: 1.57 s\n",
            "Wall time: 1.7 s\n",
            "CPU times: user 1.52 s, sys: 126 ms, total: 1.65 s\n",
            "Wall time: 1.72 s\n",
            "CPU times: user 1.51 s, sys: 129 ms, total: 1.64 s\n",
            "Wall time: 1.73 s\n",
            "CPU times: user 1.49 s, sys: 129 ms, total: 1.62 s\n",
            "Wall time: 1.7 s\n",
            "CPU times: user 1.45 s, sys: 145 ms, total: 1.59 s\n",
            "Wall time: 1.72 s\n",
            "CPU times: user 1.49 s, sys: 118 ms, total: 1.61 s\n",
            "Wall time: 1.77 s\n",
            "CPU times: user 1.51 s, sys: 123 ms, total: 1.63 s\n",
            "Wall time: 1.75 s\n",
            "CPU times: user 1.44 s, sys: 136 ms, total: 1.58 s\n",
            "Wall time: 1.63 s\n",
            "CPU times: user 1.45 s, sys: 128 ms, total: 1.57 s\n",
            "Wall time: 1.61 s\n",
            "CPU times: user 1.48 s, sys: 118 ms, total: 1.59 s\n",
            "Wall time: 1.63 s\n",
            "CPU times: user 1.42 s, sys: 112 ms, total: 1.53 s\n",
            "Wall time: 1.55 s\n",
            "CPU times: user 997 ms, sys: 90.9 ms, total: 1.09 s\n",
            "Wall time: 1.08 s\n",
            "CPU times: user 1 s, sys: 82.9 ms, total: 1.09 s\n",
            "Wall time: 1.08 s\n",
            "CPU times: user 990 ms, sys: 96.9 ms, total: 1.09 s\n",
            "Wall time: 1.09 s\n",
            "CPU times: user 1 s, sys: 81.9 ms, total: 1.08 s\n",
            "Wall time: 1.08 s\n",
            "CPU times: user 999 ms, sys: 88 ms, total: 1.09 s\n",
            "Wall time: 1.08 s\n",
            "CPU times: user 995 ms, sys: 114 ms, total: 1.11 s\n",
            "Wall time: 1.1 s\n",
            "CPU times: user 996 ms, sys: 96.5 ms, total: 1.09 s\n",
            "Wall time: 1.09 s\n",
            "CPU times: user 1.02 s, sys: 86.1 ms, total: 1.11 s\n",
            "Wall time: 1.1 s\n",
            "CPU times: user 1.03 s, sys: 95.9 ms, total: 1.13 s\n",
            "Wall time: 1.12 s\n",
            "CPU times: user 1.76 s, sys: 107 ms, total: 1.86 s\n",
            "Wall time: 1.91 s\n",
            "CPU times: user 1.51 s, sys: 121 ms, total: 1.63 s\n",
            "Wall time: 1.67 s\n",
            "CPU times: user 1.57 s, sys: 122 ms, total: 1.69 s\n",
            "Wall time: 1.72 s\n",
            "CPU times: user 1.52 s, sys: 129 ms, total: 1.65 s\n",
            "Wall time: 1.69 s\n",
            "CPU times: user 1.45 s, sys: 110 ms, total: 1.56 s\n",
            "Wall time: 1.59 s\n",
            "CPU times: user 1.45 s, sys: 124 ms, total: 1.58 s\n",
            "Wall time: 1.63 s\n",
            "CPU times: user 1.45 s, sys: 124 ms, total: 1.58 s\n",
            "Wall time: 1.61 s\n"
          ]
        }
      ],
      "source": [
        "for _ in range(num_iteracao):\n",
        "  %time dataframe_pandas(caminho)"
      ]
    },
    {
      "cell_type": "markdown",
      "source": [
        "###Usando timeit"
      ],
      "metadata": {
        "id": "sPb9P3Yyt4yA"
      }
    },
    {
      "cell_type": "code",
      "source": [
        "timeit_pandas = timeit.Timer(\n",
        "    stmt='dataframe_pandas(path)',\n",
        "    setup='from __main__ import dataframe_pandas',\n",
        "    globals={'path': caminho})"
      ],
      "metadata": {
        "id": "otu4VXcou76g"
      },
      "execution_count": null,
      "outputs": []
    },
    {
      "cell_type": "code",
      "source": [
        "for _ in range(num_iteracao):\n",
        "  tempo_pandas = timeit_pandas.timeit(1)\n",
        "  lista_tempo_leitura.append(tempo_pandas)\n",
        "\n",
        "print(lista_tempo_leitura)"
      ],
      "metadata": {
        "id": "e0rdBABut6_Z",
        "colab": {
          "base_uri": "https://localhost:8080/"
        },
        "outputId": "3af96ee8-7704-44de-f04c-aff8043f208e"
      },
      "execution_count": null,
      "outputs": [
        {
          "output_type": "stream",
          "name": "stdout",
          "text": [
            "[1.65080745799969, 1.6992315059997054, 1.2469156460001614, 1.0876367470000332, 1.0878607559998272, 1.0821489230002044, 1.0880066469999292, 1.0848495130003357, 1.0813604619997932, 1.0917729319999125, 1.0805995979999352, 1.5230541709997851, 1.8418208049997702, 1.6752605550000226, 1.7908246169999984, 1.5887902899994515, 1.6116721719999987, 1.5930822780001108, 2.158594776999962, 1.782486988000528, 1.2969554169994808, 1.0868496510001933, 1.0786833819993262, 1.0959017109998967, 1.0811492699995142, 1.1401342680001108, 1.1027376689999073, 1.1142647119995672, 1.0965688419992148, 1.548810524000146, 1.9083922219997476, 1.7632686019996981]\n"
          ]
        }
      ]
    },
    {
      "cell_type": "code",
      "source": [
        "tempos_colab_timeit_json_10m_pandas = \"tempos_colab_timeit_10m_pandas.json\"\n",
        "\n",
        "# Escreve os resultados em um arquivo JSON\n",
        "with open(tempos_colab_timeit_json_10m_pandas, \"w\") as arquivo_json:\n",
        "    json.dump(lista_tempo_leitura, arquivo_json)\n",
        "\n",
        "print(\"Os resultados foram salvos em:\", tempos_colab_timeit_json_10m_pandas)\n",
        "lista_tempo_leitura = []"
      ],
      "metadata": {
        "id": "urDu0b0rvvIn",
        "colab": {
          "base_uri": "https://localhost:8080/"
        },
        "outputId": "5dc67426-2966-4c12-f231-54133c0a909d"
      },
      "execution_count": null,
      "outputs": [
        {
          "output_type": "stream",
          "name": "stdout",
          "text": [
            "Os resultados foram salvos em: tempos_colab_timeit_10m_pandas.json\n"
          ]
        }
      ]
    },
    {
      "cell_type": "markdown",
      "source": [
        "##PySpark"
      ],
      "metadata": {
        "id": "ENvs-lXlyIpw"
      }
    },
    {
      "cell_type": "code",
      "source": [
        "def dataframe_pyspark(path):\n",
        "  df_spark = None\n",
        "  df_spark = spark.read.csv(caminho, header=True)"
      ],
      "metadata": {
        "id": "9bDBDmy1yLfz"
      },
      "execution_count": null,
      "outputs": []
    },
    {
      "cell_type": "markdown",
      "source": [
        "###Usando %time"
      ],
      "metadata": {
        "id": "07xkPdEJyOnv"
      }
    },
    {
      "cell_type": "code",
      "source": [
        "for _ in range(num_iteracao):\n",
        "  %time dataframe_pyspark(caminho)"
      ],
      "metadata": {
        "id": "YV05oXw1yUOn",
        "colab": {
          "base_uri": "https://localhost:8080/"
        },
        "outputId": "88cb6917-8d05-448e-d0cf-c85e9e59406c"
      },
      "execution_count": null,
      "outputs": [
        {
          "output_type": "stream",
          "name": "stdout",
          "text": [
            "CPU times: user 12.6 ms, sys: 1.12 ms, total: 13.7 ms\n",
            "Wall time: 1.32 s\n",
            "CPU times: user 7.61 ms, sys: 1.18 ms, total: 8.79 ms\n",
            "Wall time: 392 ms\n",
            "CPU times: user 4.59 ms, sys: 4.82 ms, total: 9.41 ms\n",
            "Wall time: 580 ms\n",
            "CPU times: user 5.94 ms, sys: 994 µs, total: 6.93 ms\n",
            "Wall time: 497 ms\n",
            "CPU times: user 7.81 ms, sys: 1.21 ms, total: 9.02 ms\n",
            "Wall time: 608 ms\n",
            "CPU times: user 9.22 ms, sys: 1.15 ms, total: 10.4 ms\n",
            "Wall time: 590 ms\n",
            "CPU times: user 8.86 ms, sys: 940 µs, total: 9.8 ms\n",
            "Wall time: 516 ms\n",
            "CPU times: user 9.01 ms, sys: 1.19 ms, total: 10.2 ms\n",
            "Wall time: 654 ms\n",
            "CPU times: user 7.67 ms, sys: 958 µs, total: 8.63 ms\n",
            "Wall time: 596 ms\n",
            "CPU times: user 6.65 ms, sys: 1.14 ms, total: 7.79 ms\n",
            "Wall time: 596 ms\n",
            "CPU times: user 7.79 ms, sys: 970 µs, total: 8.76 ms\n",
            "Wall time: 595 ms\n",
            "CPU times: user 7.79 ms, sys: 61 µs, total: 7.86 ms\n",
            "Wall time: 627 ms\n",
            "CPU times: user 9.94 ms, sys: 0 ns, total: 9.94 ms\n",
            "Wall time: 506 ms\n",
            "CPU times: user 8.37 ms, sys: 1.17 ms, total: 9.53 ms\n",
            "Wall time: 676 ms\n",
            "CPU times: user 7.52 ms, sys: 8 µs, total: 7.53 ms\n",
            "Wall time: 586 ms\n",
            "CPU times: user 8.69 ms, sys: 0 ns, total: 8.69 ms\n",
            "Wall time: 562 ms\n",
            "CPU times: user 7.13 ms, sys: 207 µs, total: 7.33 ms\n",
            "Wall time: 647 ms\n",
            "CPU times: user 7.65 ms, sys: 104 µs, total: 7.75 ms\n",
            "Wall time: 290 ms\n",
            "CPU times: user 6.25 ms, sys: 170 µs, total: 6.42 ms\n",
            "Wall time: 403 ms\n",
            "CPU times: user 5.52 ms, sys: 24 µs, total: 5.54 ms\n",
            "Wall time: 348 ms\n",
            "CPU times: user 10.7 ms, sys: 1.18 ms, total: 11.9 ms\n",
            "Wall time: 504 ms\n",
            "CPU times: user 5.02 ms, sys: 0 ns, total: 5.02 ms\n",
            "Wall time: 233 ms\n",
            "CPU times: user 6.01 ms, sys: 956 µs, total: 6.96 ms\n",
            "Wall time: 282 ms\n",
            "CPU times: user 2.04 ms, sys: 1 ms, total: 3.04 ms\n",
            "Wall time: 144 ms\n",
            "CPU times: user 4.91 ms, sys: 43 µs, total: 4.95 ms\n",
            "Wall time: 216 ms\n",
            "CPU times: user 5.17 ms, sys: 1.01 ms, total: 6.18 ms\n",
            "Wall time: 239 ms\n",
            "CPU times: user 4.8 ms, sys: 36 µs, total: 4.84 ms\n",
            "Wall time: 209 ms\n",
            "CPU times: user 5.04 ms, sys: 12 µs, total: 5.05 ms\n",
            "Wall time: 272 ms\n",
            "CPU times: user 5.92 ms, sys: 0 ns, total: 5.92 ms\n",
            "Wall time: 141 ms\n",
            "CPU times: user 5.67 ms, sys: 251 µs, total: 5.92 ms\n",
            "Wall time: 226 ms\n",
            "CPU times: user 3.23 ms, sys: 0 ns, total: 3.23 ms\n",
            "Wall time: 143 ms\n",
            "CPU times: user 4.71 ms, sys: 15 µs, total: 4.72 ms\n",
            "Wall time: 276 ms\n"
          ]
        }
      ]
    },
    {
      "cell_type": "markdown",
      "source": [
        "###Usando timeit"
      ],
      "metadata": {
        "id": "B-Yd9BC7yOdX"
      }
    },
    {
      "cell_type": "code",
      "source": [
        "timeit_pyspark = timeit.Timer(\n",
        "    stmt='dataframe_pyspark(path)',\n",
        "    setup='from __main__ import dataframe_pyspark',\n",
        "    globals={'path': caminho})"
      ],
      "metadata": {
        "id": "p8TH1cscyT7v"
      },
      "execution_count": null,
      "outputs": []
    },
    {
      "cell_type": "code",
      "source": [
        "for _ in range(num_iteracao):\n",
        "  tempo_pyspark = timeit_pyspark.timeit(1)\n",
        "  lista_tempo_leitura.append(tempo_pyspark)\n",
        "\n",
        "print(lista_tempo_leitura)\n"
      ],
      "metadata": {
        "id": "b70PkrlvzIL5",
        "colab": {
          "base_uri": "https://localhost:8080/"
        },
        "outputId": "96591194-5dee-49fa-9299-fee94a12f2f9"
      },
      "execution_count": null,
      "outputs": [
        {
          "output_type": "stream",
          "name": "stdout",
          "text": [
            "[0.19787835199986148, 0.23545092000040313, 0.222591986000225, 0.14277509299972735, 0.2148895829996036, 0.15531808700052352, 0.215600552000069, 0.142169732000184, 0.18984864899994136, 0.22810148000007757, 0.15587770299953263, 0.22575688199958677, 0.1645259189999706, 0.18882837799992558, 0.13382099900081812, 0.21951530600017577, 0.3113875899998675, 0.1348793810002462, 0.23857090700039407, 0.1476676160000352, 0.19464755599983619, 0.2657182289995035, 0.19165653999971255, 0.21748813100020925, 0.11816909900062456, 0.21333198499996797, 0.19163821599977382, 0.22370169300029374, 0.14055647399982263, 0.19514131199957774, 0.21168913500059716, 0.22174727899982827]\n"
          ]
        }
      ]
    },
    {
      "cell_type": "code",
      "source": [
        "tempos_colab_timeit_json_10m_pyspark = \"tempos_colab_timeit_10m_pyspark.json\"\n",
        "\n",
        "# Escreve os resultados em um arquivo JSON\n",
        "with open(tempos_colab_timeit_json_10m_pyspark, \"w\") as arquivo_json:\n",
        "    json.dump(lista_tempo_leitura, arquivo_json)\n",
        "\n",
        "print(\"Os resultados foram salvos em:\", tempos_colab_timeit_json_10m_pyspark)\n",
        "lista_tempo_leitura = []"
      ],
      "metadata": {
        "id": "h_8at3VrzIJw",
        "colab": {
          "base_uri": "https://localhost:8080/"
        },
        "outputId": "3b954f6b-8ad6-43e2-ba92-74c9e69c90e3"
      },
      "execution_count": null,
      "outputs": [
        {
          "output_type": "stream",
          "name": "stdout",
          "text": [
            "Os resultados foram salvos em: tempos_colab_timeit_10m_pyspark.json\n"
          ]
        }
      ]
    },
    {
      "cell_type": "markdown",
      "metadata": {
        "id": "8m6u94nPHWoS"
      },
      "source": [
        "# Tmax 5m"
      ]
    },
    {
      "cell_type": "code",
      "execution_count": null,
      "metadata": {
        "id": "JR4kZu4nHY9V",
        "colab": {
          "base_uri": "https://localhost:8080/"
        },
        "outputId": "13ab9cbe-6a18-4641-83e7-089cadefa425"
      },
      "outputs": [
        {
          "output_type": "stream",
          "name": "stdout",
          "text": [
            "--2024-05-04 18:05:43--  https://biogeo.ucdavis.edu/data/worldclim/v2.1/base/wc2.1_5m_tmax.zip\n",
            "Resolving biogeo.ucdavis.edu (biogeo.ucdavis.edu)... 128.120.228.172\n",
            "Connecting to biogeo.ucdavis.edu (biogeo.ucdavis.edu)|128.120.228.172|:443... connected.\n",
            "HTTP request sent, awaiting response... 302 Found\n",
            "Location: https://data.biogeo.ucdavis.edu/data/worldclim/v2.1/base/wc2.1_5m_tmax.zip [following]\n",
            "--2024-05-04 18:05:43--  https://data.biogeo.ucdavis.edu/data/worldclim/v2.1/base/wc2.1_5m_tmax.zip\n",
            "Resolving data.biogeo.ucdavis.edu (data.biogeo.ucdavis.edu)... 128.120.228.172\n",
            "Connecting to data.biogeo.ucdavis.edu (data.biogeo.ucdavis.edu)|128.120.228.172|:443... connected.\n",
            "HTTP request sent, awaiting response... 200 OK\n",
            "Length: 126715801 (121M) [application/zip]\n",
            "Saving to: ‘wc2.1_5m_tmax.zip.1’\n",
            "\n",
            "wc2.1_5m_tmax.zip.1 100%[===================>] 120.84M  38.8MB/s    in 3.4s    \n",
            "\n",
            "2024-05-04 18:05:47 (35.5 MB/s) - ‘wc2.1_5m_tmax.zip.1’ saved [126715801/126715801]\n",
            "\n",
            "Archive:  wc2.1_5m_tmax.zip\n",
            "  inflating: wc2.1_5m_tmax_01.tif    \n",
            "  inflating: wc2.1_5m_tmax_02.tif    \n",
            "  inflating: wc2.1_5m_tmax_03.tif    \n",
            "  inflating: wc2.1_5m_tmax_04.tif    \n",
            "  inflating: wc2.1_5m_tmax_05.tif    \n",
            "  inflating: wc2.1_5m_tmax_06.tif    \n",
            "  inflating: wc2.1_5m_tmax_07.tif    \n",
            "  inflating: wc2.1_5m_tmax_08.tif    \n",
            "  inflating: wc2.1_5m_tmax_09.tif    \n",
            "  inflating: wc2.1_5m_tmax_10.tif    \n",
            "  inflating: wc2.1_5m_tmax_11.tif    \n",
            "  inflating: wc2.1_5m_tmax_12.tif    \n"
          ]
        }
      ],
      "source": [
        "!wget https://biogeo.ucdavis.edu/data/worldclim/v2.1/base/wc2.1_5m_tmax.zip\n",
        "!unzip -o wc2.1_5m_tmax.zip"
      ]
    },
    {
      "cell_type": "code",
      "execution_count": null,
      "metadata": {
        "colab": {
          "base_uri": "https://localhost:8080/"
        },
        "id": "4nYP9vx1IjRS",
        "outputId": "d0a50c90-a6ea-45ca-fbfa-f81b4b535a26"
      },
      "outputs": [
        {
          "output_type": "stream",
          "name": "stdout",
          "text": [
            "[2024-05-04 06:05:52 - INFO] - Getting geotransform and data...\n",
            "[2024-05-04 06:05:52 - INFO] - Getting XYZ data...\n",
            "[2024-05-04 06:05:53 - INFO] - Getting geotransformed coordinates...\n",
            "[2024-05-04 06:05:53 - INFO] - Building XYZ data...\n",
            "[2024-05-04 06:06:35 - INFO] - New XYZ (csv file) created...\n"
          ]
        }
      ],
      "source": [
        "!raster2xyz wc2.1_5m_tmax_01.tif wc2.1_5m_tmax_01.csv"
      ]
    },
    {
      "cell_type": "code",
      "execution_count": null,
      "metadata": {
        "id": "M6Q66fN9I-1P"
      },
      "outputs": [],
      "source": [
        "caminho = 'wc2.1_5m_tmax_01.csv'"
      ]
    },
    {
      "cell_type": "markdown",
      "source": [
        "##Pandas"
      ],
      "metadata": {
        "id": "vBgap1z50lw3"
      }
    },
    {
      "cell_type": "code",
      "execution_count": null,
      "metadata": {
        "id": "oXicmQFf0lxB"
      },
      "outputs": [],
      "source": [
        "def dataframe_pandas(path):\n",
        "  df_pandas = None\n",
        "  df_pandas = pd.read_csv(path)"
      ]
    },
    {
      "cell_type": "markdown",
      "source": [
        "###Usando %time"
      ],
      "metadata": {
        "id": "fmzfD0uu0lxB"
      }
    },
    {
      "cell_type": "code",
      "execution_count": null,
      "metadata": {
        "id": "in_diVf30lxC",
        "colab": {
          "base_uri": "https://localhost:8080/"
        },
        "outputId": "e8276d0b-81d1-497f-d81e-83f24f5b92d0"
      },
      "outputs": [
        {
          "output_type": "stream",
          "name": "stdout",
          "text": [
            "CPU times: user 6.43 s, sys: 586 ms, total: 7.02 s\n",
            "Wall time: 7.26 s\n",
            "CPU times: user 6.25 s, sys: 397 ms, total: 6.65 s\n",
            "Wall time: 7.4 s\n",
            "CPU times: user 6.12 s, sys: 425 ms, total: 6.54 s\n",
            "Wall time: 6.98 s\n",
            "CPU times: user 5.91 s, sys: 389 ms, total: 6.3 s\n",
            "Wall time: 6.64 s\n",
            "CPU times: user 4.92 s, sys: 321 ms, total: 5.24 s\n",
            "Wall time: 5.28 s\n",
            "CPU times: user 6.31 s, sys: 417 ms, total: 6.73 s\n",
            "Wall time: 6.88 s\n",
            "CPU times: user 5.82 s, sys: 381 ms, total: 6.2 s\n",
            "Wall time: 6.33 s\n",
            "CPU times: user 4.56 s, sys: 368 ms, total: 4.93 s\n",
            "Wall time: 4.97 s\n",
            "CPU times: user 4 s, sys: 283 ms, total: 4.28 s\n",
            "Wall time: 4.26 s\n",
            "CPU times: user 5.05 s, sys: 322 ms, total: 5.37 s\n",
            "Wall time: 5.43 s\n",
            "CPU times: user 6.01 s, sys: 395 ms, total: 6.4 s\n",
            "Wall time: 6.52 s\n",
            "CPU times: user 5.94 s, sys: 383 ms, total: 6.32 s\n",
            "Wall time: 6.44 s\n",
            "CPU times: user 3.97 s, sys: 300 ms, total: 4.27 s\n",
            "Wall time: 4.25 s\n",
            "CPU times: user 4 s, sys: 281 ms, total: 4.28 s\n",
            "Wall time: 4.27 s\n",
            "CPU times: user 5.63 s, sys: 356 ms, total: 5.98 s\n",
            "Wall time: 6.09 s\n",
            "CPU times: user 8.67 s, sys: 1.9 s, total: 10.6 s\n",
            "Wall time: 12.7 s\n",
            "CPU times: user 5.37 s, sys: 1.07 s, total: 6.44 s\n",
            "Wall time: 6.68 s\n",
            "CPU times: user 4.01 s, sys: 336 ms, total: 4.34 s\n",
            "Wall time: 4.32 s\n",
            "CPU times: user 4.36 s, sys: 374 ms, total: 4.74 s\n",
            "Wall time: 4.84 s\n",
            "CPU times: user 6.3 s, sys: 386 ms, total: 6.68 s\n",
            "Wall time: 6.9 s\n",
            "CPU times: user 5.84 s, sys: 413 ms, total: 6.25 s\n",
            "Wall time: 6.38 s\n",
            "CPU times: user 4.49 s, sys: 322 ms, total: 4.81 s\n",
            "Wall time: 4.84 s\n",
            "CPU times: user 3.99 s, sys: 302 ms, total: 4.29 s\n",
            "Wall time: 4.27 s\n",
            "CPU times: user 5.17 s, sys: 379 ms, total: 5.55 s\n",
            "Wall time: 5.59 s\n",
            "CPU times: user 6.04 s, sys: 404 ms, total: 6.44 s\n",
            "Wall time: 6.57 s\n",
            "CPU times: user 5.79 s, sys: 411 ms, total: 6.21 s\n",
            "Wall time: 6.32 s\n",
            "CPU times: user 4.03 s, sys: 298 ms, total: 4.33 s\n",
            "Wall time: 4.31 s\n",
            "CPU times: user 3.98 s, sys: 334 ms, total: 4.31 s\n",
            "Wall time: 4.29 s\n",
            "CPU times: user 6 s, sys: 408 ms, total: 6.41 s\n",
            "Wall time: 6.54 s\n",
            "CPU times: user 5.87 s, sys: 416 ms, total: 6.28 s\n",
            "Wall time: 6.4 s\n",
            "CPU times: user 6.33 s, sys: 449 ms, total: 6.78 s\n",
            "Wall time: 7.04 s\n",
            "CPU times: user 6 s, sys: 397 ms, total: 6.4 s\n",
            "Wall time: 6.52 s\n"
          ]
        }
      ],
      "source": [
        "for _ in range(num_iteracao):\n",
        "  %time dataframe_pandas(caminho)"
      ]
    },
    {
      "cell_type": "markdown",
      "source": [
        "###Usando timeit"
      ],
      "metadata": {
        "id": "wJNF_t__0lxC"
      }
    },
    {
      "cell_type": "code",
      "source": [
        "timeit_pandas = timeit.Timer(\n",
        "    stmt='dataframe_pandas(path)',\n",
        "    setup='from __main__ import dataframe_pandas',\n",
        "    globals={'path': caminho})"
      ],
      "metadata": {
        "id": "lZIfsc2l0lxC"
      },
      "execution_count": null,
      "outputs": []
    },
    {
      "cell_type": "code",
      "source": [
        "for _ in range(num_iteracao):\n",
        "  tempo_pandas = timeit_pandas.timeit(1)\n",
        "  lista_tempo_leitura.append(tempo_pandas)\n",
        "\n",
        "print(lista_tempo_leitura)"
      ],
      "metadata": {
        "id": "JnzRHuaN0lxC",
        "colab": {
          "base_uri": "https://localhost:8080/"
        },
        "outputId": "874c2ae9-e07c-433c-ae1f-3232eb67bc87"
      },
      "execution_count": null,
      "outputs": [
        {
          "output_type": "stream",
          "name": "stdout",
          "text": [
            "[7.281416253999851, 6.664642567999181, 6.4235483490010665, 4.299521522998475, 4.239749953001592, 6.005664594000336, 6.5403292259998125, 5.9827206959998875, 4.312265104001199, 4.29994476399952, 7.052921901000445, 6.395014240999444, 5.178215440999338, 4.284414027999446, 5.302205947999028, 6.562678434998816, 6.505879681000806, 4.318489524999677, 4.302100435999819, 6.015064826999151, 6.62785414100108, 5.8999425700003485, 4.264662754998426, 4.271736530999988, 6.983544306000113, 6.440080479000244, 5.117501272001391, 4.281303894998928, 5.315655930000503, 6.771452168000906, 6.950614819001203, 6.935581820998777]\n"
          ]
        }
      ]
    },
    {
      "cell_type": "code",
      "source": [
        "tempos_colab_timeit_json_5m_pandas = \"tempos_colab_timeit_5m_pandas.json\"\n",
        "\n",
        "# Escreve os resultados em um arquivo JSON\n",
        "with open(tempos_colab_timeit_json_5m_pandas, \"w\") as arquivo_json:\n",
        "    json.dump(lista_tempo_leitura, arquivo_json)\n",
        "\n",
        "print(\"Os resultados foram salvos em:\", tempos_colab_timeit_json_5m_pandas)\n",
        "lista_tempo_leitura = []"
      ],
      "metadata": {
        "id": "wf7xFuDC0lxC",
        "colab": {
          "base_uri": "https://localhost:8080/"
        },
        "outputId": "fb479d5b-2c8a-44e7-f882-ab9baaa199e0"
      },
      "execution_count": null,
      "outputs": [
        {
          "output_type": "stream",
          "name": "stdout",
          "text": [
            "Os resultados foram salvos em: tempos_colab_timeit_5m_pandas.json\n"
          ]
        }
      ]
    },
    {
      "cell_type": "markdown",
      "source": [
        "##PySpark"
      ],
      "metadata": {
        "id": "8fzscnBR0qxr"
      }
    },
    {
      "cell_type": "code",
      "source": [
        "def dataframe_pyspark(path):\n",
        "  df_spark = None\n",
        "  df_spark = spark.read.csv(caminho, header=True)"
      ],
      "metadata": {
        "id": "jTAVly5z0qx4"
      },
      "execution_count": null,
      "outputs": []
    },
    {
      "cell_type": "markdown",
      "source": [
        "###Usando %time"
      ],
      "metadata": {
        "id": "n5-VEmc60qx4"
      }
    },
    {
      "cell_type": "code",
      "source": [
        "for _ in range(num_iteracao):\n",
        "  %time dataframe_pyspark(caminho)"
      ],
      "metadata": {
        "id": "vz3G6QiE0qx4",
        "colab": {
          "base_uri": "https://localhost:8080/"
        },
        "outputId": "09443710-8511-4b91-c771-8a927d363fc4"
      },
      "execution_count": null,
      "outputs": [
        {
          "output_type": "stream",
          "name": "stdout",
          "text": [
            "CPU times: user 3.91 ms, sys: 70 µs, total: 3.98 ms\n",
            "Wall time: 261 ms\n",
            "CPU times: user 5.81 ms, sys: 973 µs, total: 6.78 ms\n",
            "Wall time: 510 ms\n",
            "CPU times: user 9.88 ms, sys: 0 ns, total: 9.88 ms\n",
            "Wall time: 228 ms\n",
            "CPU times: user 6.06 ms, sys: 5 µs, total: 6.07 ms\n",
            "Wall time: 370 ms\n",
            "CPU times: user 4.86 ms, sys: 1.06 ms, total: 5.92 ms\n",
            "Wall time: 260 ms\n",
            "CPU times: user 8.18 ms, sys: 227 µs, total: 8.41 ms\n",
            "Wall time: 459 ms\n",
            "CPU times: user 5.25 ms, sys: 0 ns, total: 5.25 ms\n",
            "Wall time: 280 ms\n",
            "CPU times: user 6.92 ms, sys: 1.97 ms, total: 8.89 ms\n",
            "Wall time: 440 ms\n",
            "CPU times: user 5.11 ms, sys: 0 ns, total: 5.11 ms\n",
            "Wall time: 355 ms\n",
            "CPU times: user 9.86 ms, sys: 0 ns, total: 9.86 ms\n",
            "Wall time: 522 ms\n",
            "CPU times: user 7.74 ms, sys: 1.18 ms, total: 8.91 ms\n",
            "Wall time: 238 ms\n",
            "CPU times: user 5.15 ms, sys: 914 µs, total: 6.06 ms\n",
            "Wall time: 454 ms\n",
            "CPU times: user 7.27 ms, sys: 2.17 ms, total: 9.44 ms\n",
            "Wall time: 476 ms\n",
            "CPU times: user 5.77 ms, sys: 1.11 ms, total: 6.88 ms\n",
            "Wall time: 228 ms\n",
            "CPU times: user 6.6 ms, sys: 27 µs, total: 6.62 ms\n",
            "Wall time: 435 ms\n",
            "CPU times: user 5.65 ms, sys: 65 µs, total: 5.72 ms\n",
            "Wall time: 313 ms\n",
            "CPU times: user 7.33 ms, sys: 68 µs, total: 7.4 ms\n",
            "Wall time: 429 ms\n",
            "CPU times: user 5.98 ms, sys: 0 ns, total: 5.98 ms\n",
            "Wall time: 297 ms\n",
            "CPU times: user 7.38 ms, sys: 870 µs, total: 8.25 ms\n",
            "Wall time: 431 ms\n",
            "CPU times: user 5.92 ms, sys: 127 µs, total: 6.05 ms\n",
            "Wall time: 425 ms\n",
            "CPU times: user 5.28 ms, sys: 154 µs, total: 5.43 ms\n",
            "Wall time: 283 ms\n",
            "CPU times: user 5.36 ms, sys: 0 ns, total: 5.36 ms\n",
            "Wall time: 279 ms\n",
            "CPU times: user 5.03 ms, sys: 0 ns, total: 5.03 ms\n",
            "Wall time: 132 ms\n",
            "CPU times: user 3.5 ms, sys: 933 µs, total: 4.43 ms\n",
            "Wall time: 208 ms\n",
            "CPU times: user 2.85 ms, sys: 912 µs, total: 3.76 ms\n",
            "Wall time: 117 ms\n",
            "CPU times: user 3.81 ms, sys: 36 µs, total: 3.84 ms\n",
            "Wall time: 211 ms\n",
            "CPU times: user 3.7 ms, sys: 184 µs, total: 3.89 ms\n",
            "Wall time: 192 ms\n",
            "CPU times: user 3.92 ms, sys: 77 µs, total: 4 ms\n",
            "Wall time: 125 ms\n",
            "CPU times: user 3.17 ms, sys: 1.91 ms, total: 5.07 ms\n",
            "Wall time: 182 ms\n",
            "CPU times: user 2.41 ms, sys: 878 µs, total: 3.29 ms\n",
            "Wall time: 121 ms\n",
            "CPU times: user 6.21 ms, sys: 17 µs, total: 6.23 ms\n",
            "Wall time: 307 ms\n",
            "CPU times: user 7.17 ms, sys: 0 ns, total: 7.17 ms\n",
            "Wall time: 269 ms\n"
          ]
        }
      ]
    },
    {
      "cell_type": "markdown",
      "source": [
        "###Usando timeit"
      ],
      "metadata": {
        "id": "5sIQ-CrT0qx5"
      }
    },
    {
      "cell_type": "code",
      "source": [
        "timeit_pyspark = timeit.Timer(\n",
        "    stmt='dataframe_pyspark(path)',\n",
        "    setup='from __main__ import dataframe_pyspark',\n",
        "    globals={'path': caminho})"
      ],
      "metadata": {
        "id": "dIxAgadZ0qx5"
      },
      "execution_count": null,
      "outputs": []
    },
    {
      "cell_type": "code",
      "source": [
        "for _ in range(num_iteracao):\n",
        "  tempo_pyspark = timeit_pyspark.timeit(1)\n",
        "  lista_tempo_leitura.append(tempo_pyspark)\n",
        "\n",
        "print(lista_tempo_leitura)\n"
      ],
      "metadata": {
        "id": "bKEUqIO90qx5",
        "colab": {
          "base_uri": "https://localhost:8080/"
        },
        "outputId": "3e3b2abc-f699-4367-eff3-2f98c899b888"
      },
      "execution_count": null,
      "outputs": [
        {
          "output_type": "stream",
          "name": "stdout",
          "text": [
            "[0.39790623800035974, 0.33624552699984633, 0.1806901910003944, 0.35012552900116134, 0.28030983799908427, 0.42167251099999703, 0.32165377999990596, 0.15504783199867234, 0.2147655439985101, 0.5324624020013289, 0.38825982500020473, 0.4933044829995197, 0.2831269150010485, 0.499980749000315, 0.20142966300045373, 0.2815135110013216, 0.32416475900026853, 0.15450117500040506, 0.2973034740007279, 0.4789803860003303, 0.11947985799997696, 0.22037720800108218, 0.3561335840004176, 0.14086519200100156, 0.3923889580000832, 0.2240460590001021, 0.12861867700121365, 0.35426132700013113, 0.3239504049997777, 0.21161547799965774, 0.35332631500023126, 0.4988462309993338]\n"
          ]
        }
      ]
    },
    {
      "cell_type": "code",
      "source": [
        "tempos_colab_timeit_json_5m_pyspark = \"tempos_colab_timeit_5m_pyspark.json\"\n",
        "\n",
        "# Escreve os resultados em um arquivo JSON\n",
        "with open(tempos_colab_timeit_json_5m_pyspark, \"w\") as arquivo_json:\n",
        "    json.dump(lista_tempo_leitura, arquivo_json)\n",
        "\n",
        "print(\"Os resultados foram salvos em:\", tempos_colab_timeit_json_5m_pyspark)\n",
        "lista_tempo_leitura = []"
      ],
      "metadata": {
        "id": "oKi8CJa80qx5",
        "colab": {
          "base_uri": "https://localhost:8080/"
        },
        "outputId": "0189ef70-6358-43ef-ceed-3e601e29c071"
      },
      "execution_count": null,
      "outputs": [
        {
          "output_type": "stream",
          "name": "stdout",
          "text": [
            "Os resultados foram salvos em: tempos_colab_timeit_5m_pyspark.json\n"
          ]
        }
      ]
    },
    {
      "cell_type": "markdown",
      "metadata": {
        "id": "yRVkJLzzHOzi"
      },
      "source": [
        "# Tmax 2.5m"
      ]
    },
    {
      "cell_type": "code",
      "execution_count": null,
      "metadata": {
        "id": "Jzant7vbHZis",
        "colab": {
          "base_uri": "https://localhost:8080/"
        },
        "outputId": "7f9c62f5-c51d-4522-b622-8032e5e81909"
      },
      "outputs": [
        {
          "output_type": "stream",
          "name": "stdout",
          "text": [
            "--2024-05-04 18:13:11--  https://biogeo.ucdavis.edu/data/worldclim/v2.1/base/wc2.1_2.5m_tmax.zip\n",
            "Resolving biogeo.ucdavis.edu (biogeo.ucdavis.edu)... 128.120.228.172\n",
            "Connecting to biogeo.ucdavis.edu (biogeo.ucdavis.edu)|128.120.228.172|:443... connected.\n",
            "HTTP request sent, awaiting response... 302 Found\n",
            "Location: https://data.biogeo.ucdavis.edu/data/worldclim/v2.1/base/wc2.1_2.5m_tmax.zip [following]\n",
            "--2024-05-04 18:13:11--  https://data.biogeo.ucdavis.edu/data/worldclim/v2.1/base/wc2.1_2.5m_tmax.zip\n",
            "Resolving data.biogeo.ucdavis.edu (data.biogeo.ucdavis.edu)... 128.120.228.172\n",
            "Connecting to data.biogeo.ucdavis.edu (data.biogeo.ucdavis.edu)|128.120.228.172|:443... connected.\n",
            "HTTP request sent, awaiting response... 200 OK\n",
            "Length: 444356872 (424M) [application/zip]\n",
            "Saving to: ‘wc2.1_2.5m_tmax.zip.1’\n",
            "\n",
            "wc2.1_2.5m_tmax.zip 100%[===================>] 423.77M  38.2MB/s    in 11s     \n",
            "\n",
            "2024-05-04 18:13:22 (38.4 MB/s) - ‘wc2.1_2.5m_tmax.zip.1’ saved [444356872/444356872]\n",
            "\n",
            "Archive:  wc2.1_2.5m_tmax.zip\n",
            "  inflating: wc2.1_2.5m_tmax_01.tif  \n",
            "  inflating: wc2.1_2.5m_tmax_02.tif  \n",
            "  inflating: wc2.1_2.5m_tmax_03.tif  \n",
            "  inflating: wc2.1_2.5m_tmax_04.tif  \n",
            "  inflating: wc2.1_2.5m_tmax_05.tif  \n",
            "  inflating: wc2.1_2.5m_tmax_06.tif  \n",
            "  inflating: wc2.1_2.5m_tmax_07.tif  \n",
            "  inflating: wc2.1_2.5m_tmax_08.tif  \n",
            "  inflating: wc2.1_2.5m_tmax_09.tif  \n",
            "  inflating: wc2.1_2.5m_tmax_10.tif  \n",
            "  inflating: wc2.1_2.5m_tmax_11.tif  \n",
            "  inflating: wc2.1_2.5m_tmax_12.tif  \n"
          ]
        }
      ],
      "source": [
        "!wget https://biogeo.ucdavis.edu/data/worldclim/v2.1/base/wc2.1_2.5m_tmax.zip\n",
        "!unzip -o wc2.1_2.5m_tmax.zip"
      ]
    },
    {
      "cell_type": "code",
      "execution_count": null,
      "metadata": {
        "colab": {
          "base_uri": "https://localhost:8080/"
        },
        "id": "cv0uJKfVHZvW",
        "outputId": "5e84a4a8-1124-485d-9297-fe49db0f72c5"
      },
      "outputs": [
        {
          "output_type": "stream",
          "name": "stdout",
          "text": [
            "[2024-05-04 06:13:32 - INFO] - Getting geotransform and data...\n",
            "[2024-05-04 06:13:34 - INFO] - Getting XYZ data...\n",
            "[2024-05-04 06:13:35 - INFO] - Getting geotransformed coordinates...\n",
            "[2024-05-04 06:13:37 - INFO] - Building XYZ data...\n",
            "[2024-05-04 06:16:28 - INFO] - New XYZ (csv file) created...\n"
          ]
        }
      ],
      "source": [
        "!raster2xyz wc2.1_2.5m_tmax_01.tif wc2.1_2.5m_tmax_01.csv"
      ]
    },
    {
      "cell_type": "code",
      "execution_count": null,
      "metadata": {
        "id": "YWw_0CpmJBhV"
      },
      "outputs": [],
      "source": [
        "caminho = 'wc2.1_2.5m_tmax_01.csv'"
      ]
    },
    {
      "cell_type": "markdown",
      "source": [
        "##Pandas"
      ],
      "metadata": {
        "id": "apWD1fjD1I2E"
      }
    },
    {
      "cell_type": "code",
      "execution_count": null,
      "metadata": {
        "id": "-A9uAD-l1I2F"
      },
      "outputs": [],
      "source": [
        "def dataframe_pandas(path):\n",
        "  df_pandas = None\n",
        "  df_pandas = pd.read_csv(path)"
      ]
    },
    {
      "cell_type": "markdown",
      "source": [
        "###Usando %time"
      ],
      "metadata": {
        "id": "ZVbx-9j81I2F"
      }
    },
    {
      "cell_type": "code",
      "execution_count": null,
      "metadata": {
        "id": "NKg6blcx1I2F",
        "colab": {
          "base_uri": "https://localhost:8080/"
        },
        "outputId": "99470d9d-3c23-4750-945b-97e5a5d48fed"
      },
      "outputs": [
        {
          "output_type": "stream",
          "name": "stdout",
          "text": [
            "CPU times: user 19.5 s, sys: 1.63 s, total: 21.2 s\n",
            "Wall time: 21.5 s\n",
            "CPU times: user 20.2 s, sys: 1.35 s, total: 21.6 s\n",
            "Wall time: 21.8 s\n",
            "CPU times: user 23.4 s, sys: 1.54 s, total: 25 s\n",
            "Wall time: 25.4 s\n",
            "CPU times: user 20.9 s, sys: 1.32 s, total: 22.2 s\n",
            "Wall time: 22.5 s\n",
            "CPU times: user 26.3 s, sys: 3.85 s, total: 30.1 s\n",
            "Wall time: 32.8 s\n",
            "CPU times: user 24.2 s, sys: 3.11 s, total: 27.3 s\n",
            "Wall time: 28.7 s\n",
            "CPU times: user 20.5 s, sys: 1.6 s, total: 22.1 s\n",
            "Wall time: 22.3 s\n",
            "CPU times: user 19.7 s, sys: 1.39 s, total: 21.1 s\n",
            "Wall time: 21.3 s\n",
            "CPU times: user 19.5 s, sys: 1.45 s, total: 21 s\n",
            "Wall time: 21.2 s\n",
            "CPU times: user 20.3 s, sys: 1.53 s, total: 21.8 s\n",
            "Wall time: 22 s\n",
            "CPU times: user 20.5 s, sys: 1.49 s, total: 22 s\n",
            "Wall time: 22.2 s\n",
            "CPU times: user 21.3 s, sys: 1.4 s, total: 22.7 s\n",
            "Wall time: 23 s\n",
            "CPU times: user 23.3 s, sys: 1.61 s, total: 24.9 s\n",
            "Wall time: 26 s\n",
            "CPU times: user 22.7 s, sys: 1.63 s, total: 24.3 s\n",
            "Wall time: 24.8 s\n",
            "CPU times: user 19.7 s, sys: 1.44 s, total: 21.1 s\n",
            "Wall time: 21.3 s\n",
            "CPU times: user 19.4 s, sys: 1.41 s, total: 20.8 s\n",
            "Wall time: 21 s\n",
            "CPU times: user 19.5 s, sys: 1.34 s, total: 20.8 s\n",
            "Wall time: 21 s\n",
            "CPU times: user 20.9 s, sys: 1.36 s, total: 22.2 s\n",
            "Wall time: 22.6 s\n",
            "CPU times: user 21.2 s, sys: 1.39 s, total: 22.5 s\n",
            "Wall time: 22.9 s\n",
            "CPU times: user 21 s, sys: 1.37 s, total: 22.4 s\n",
            "Wall time: 22.6 s\n",
            "CPU times: user 23.6 s, sys: 1.59 s, total: 25.2 s\n",
            "Wall time: 26.2 s\n",
            "CPU times: user 19.5 s, sys: 1.41 s, total: 20.9 s\n",
            "Wall time: 21.1 s\n",
            "CPU times: user 20 s, sys: 1.59 s, total: 21.6 s\n",
            "Wall time: 22 s\n",
            "CPU times: user 21 s, sys: 1.43 s, total: 22.4 s\n",
            "Wall time: 22.7 s\n",
            "CPU times: user 21.5 s, sys: 1.44 s, total: 23 s\n",
            "Wall time: 23.3 s\n",
            "CPU times: user 21.2 s, sys: 1.49 s, total: 22.7 s\n",
            "Wall time: 23.1 s\n",
            "CPU times: user 21.1 s, sys: 1.42 s, total: 22.5 s\n",
            "Wall time: 22.8 s\n",
            "CPU times: user 20.5 s, sys: 1.42 s, total: 21.9 s\n",
            "Wall time: 22.5 s\n",
            "CPU times: user 22.2 s, sys: 1.52 s, total: 23.7 s\n",
            "Wall time: 25 s\n",
            "CPU times: user 19.5 s, sys: 1.33 s, total: 20.9 s\n",
            "Wall time: 21 s\n",
            "CPU times: user 21 s, sys: 1.41 s, total: 22.4 s\n",
            "Wall time: 22.6 s\n",
            "CPU times: user 25.3 s, sys: 4.79 s, total: 30.1 s\n",
            "Wall time: 32.2 s\n"
          ]
        }
      ],
      "source": [
        "for _ in range(num_iteracao):\n",
        "  %time dataframe_pandas(caminho)"
      ]
    },
    {
      "cell_type": "markdown",
      "source": [
        "###Usando timeit"
      ],
      "metadata": {
        "id": "Q8FW0afD1I2G"
      }
    },
    {
      "cell_type": "code",
      "source": [
        "timeit_pandas = timeit.Timer(\n",
        "    stmt='dataframe_pandas(path)',\n",
        "    setup='from __main__ import dataframe_pandas',\n",
        "    globals={'path': caminho})"
      ],
      "metadata": {
        "id": "fGhC9x3S1I2G"
      },
      "execution_count": null,
      "outputs": []
    },
    {
      "cell_type": "code",
      "source": [
        "for _ in range(num_iteracao):\n",
        "  tempo_pandas = timeit_pandas.timeit(1)\n",
        "  lista_tempo_leitura.append(tempo_pandas)\n",
        "\n",
        "print(lista_tempo_leitura)"
      ],
      "metadata": {
        "id": "Qf4vOh3O1I2G",
        "colab": {
          "base_uri": "https://localhost:8080/"
        },
        "outputId": "c45db352-25c5-4278-b1f5-74bf77c3c340"
      },
      "execution_count": null,
      "outputs": [
        {
          "output_type": "stream",
          "name": "stdout",
          "text": [
            "[23.334112305999952, 22.87110793100146, 24.742486146999, 26.53744300499966, 22.32170067900006, 22.15753849000066, 21.412526867999986, 21.16287383800045, 22.711439262999193, 22.67322867800067, 26.12908548700034, 21.444280895000702, 20.90565273700122, 22.49828967099893, 22.82094342399978, 22.715715964999617, 22.8771240749993, 22.483000234999054, 25.030484254999465, 22.245751985001334, 23.127789853999275, 22.902367892000257, 24.224295954998524, 24.366196539000157, 23.183532608998576, 39.39390900500075, 23.419958061000216, 24.657724885999414, 23.90326469899992, 24.697356513999694, 24.965792184999373, 27.251750064999214]\n"
          ]
        }
      ]
    },
    {
      "cell_type": "code",
      "source": [
        "tempos_colab_timeit_json_2_5m_pandas = \"tempos_colab_timeit_2_5m_pandas.json\"\n",
        "\n",
        "# Escreve os resultados em um arquivo JSON\n",
        "with open(tempos_colab_timeit_json_2_5m_pandas, \"w\") as arquivo_json:\n",
        "    json.dump(lista_tempo_leitura, arquivo_json)\n",
        "\n",
        "print(\"Os resultados foram salvos em:\", tempos_colab_timeit_json_2_5m_pandas)\n",
        "lista_tempo_leitura = []"
      ],
      "metadata": {
        "id": "HSomm5lj1I2G",
        "colab": {
          "base_uri": "https://localhost:8080/"
        },
        "outputId": "e7b91491-2b4d-46ef-8432-9636c3dbc459"
      },
      "execution_count": null,
      "outputs": [
        {
          "output_type": "stream",
          "name": "stdout",
          "text": [
            "Os resultados foram salvos em: tempos_colab_timeit_2_5m_pandas.json\n"
          ]
        }
      ]
    },
    {
      "cell_type": "markdown",
      "source": [
        "##PySpark"
      ],
      "metadata": {
        "id": "A6Dp-ubY1NLP"
      }
    },
    {
      "cell_type": "code",
      "source": [
        "def dataframe_pyspark(path):\n",
        "  df_spark = None\n",
        "  df_spark = spark.read.csv(caminho, header=True)"
      ],
      "metadata": {
        "id": "fZm_qGWj1NLQ"
      },
      "execution_count": null,
      "outputs": []
    },
    {
      "cell_type": "markdown",
      "source": [
        "###Usando %time"
      ],
      "metadata": {
        "id": "_MtO_K8y1NLQ"
      }
    },
    {
      "cell_type": "code",
      "source": [
        "for _ in range(num_iteracao):\n",
        "  %time dataframe_pyspark(caminho)"
      ],
      "metadata": {
        "id": "Niw_-TQd1NLQ",
        "colab": {
          "base_uri": "https://localhost:8080/"
        },
        "outputId": "378750db-7e58-417e-f25b-de3c54048dc7"
      },
      "execution_count": null,
      "outputs": [
        {
          "output_type": "stream",
          "name": "stdout",
          "text": [
            "CPU times: user 10.5 ms, sys: 119 µs, total: 10.6 ms\n",
            "Wall time: 617 ms\n",
            "CPU times: user 11.8 ms, sys: 218 µs, total: 12 ms\n",
            "Wall time: 475 ms\n",
            "CPU times: user 11.9 ms, sys: 399 µs, total: 12.3 ms\n",
            "Wall time: 1.19 s\n",
            "CPU times: user 13.5 ms, sys: 1.12 ms, total: 14.6 ms\n",
            "Wall time: 606 ms\n",
            "CPU times: user 8.76 ms, sys: 1.19 ms, total: 9.96 ms\n",
            "Wall time: 545 ms\n",
            "CPU times: user 9.26 ms, sys: 6 µs, total: 9.27 ms\n",
            "Wall time: 448 ms\n",
            "CPU times: user 8.39 ms, sys: 1.01 ms, total: 9.4 ms\n",
            "Wall time: 542 ms\n",
            "CPU times: user 8.79 ms, sys: 77 µs, total: 8.86 ms\n",
            "Wall time: 645 ms\n",
            "CPU times: user 11.4 ms, sys: 212 µs, total: 11.6 ms\n",
            "Wall time: 686 ms\n",
            "CPU times: user 7.15 ms, sys: 168 µs, total: 7.32 ms\n",
            "Wall time: 482 ms\n",
            "CPU times: user 5.39 ms, sys: 1.17 ms, total: 6.56 ms\n",
            "Wall time: 396 ms\n",
            "CPU times: user 10.1 ms, sys: 220 µs, total: 10.3 ms\n",
            "Wall time: 614 ms\n",
            "CPU times: user 5.79 ms, sys: 73 µs, total: 5.86 ms\n",
            "Wall time: 542 ms\n",
            "CPU times: user 8.1 ms, sys: 1.01 ms, total: 9.11 ms\n",
            "Wall time: 550 ms\n",
            "CPU times: user 7.31 ms, sys: 1.23 ms, total: 8.54 ms\n",
            "Wall time: 409 ms\n",
            "CPU times: user 4.96 ms, sys: 131 µs, total: 5.09 ms\n",
            "Wall time: 321 ms\n",
            "CPU times: user 7.04 ms, sys: 64 µs, total: 7.1 ms\n",
            "Wall time: 481 ms\n",
            "CPU times: user 8.21 ms, sys: 148 µs, total: 8.36 ms\n",
            "Wall time: 563 ms\n",
            "CPU times: user 6.36 ms, sys: 188 µs, total: 6.55 ms\n",
            "Wall time: 349 ms\n",
            "CPU times: user 4.81 ms, sys: 37 µs, total: 4.84 ms\n",
            "Wall time: 220 ms\n",
            "CPU times: user 5.94 ms, sys: 986 µs, total: 6.92 ms\n",
            "Wall time: 264 ms\n",
            "CPU times: user 6.63 ms, sys: 11 µs, total: 6.64 ms\n",
            "Wall time: 311 ms\n",
            "CPU times: user 5.47 ms, sys: 51 µs, total: 5.52 ms\n",
            "Wall time: 267 ms\n",
            "CPU times: user 3.28 ms, sys: 98 µs, total: 3.37 ms\n",
            "Wall time: 135 ms\n",
            "CPU times: user 6.92 ms, sys: 0 ns, total: 6.92 ms\n",
            "Wall time: 245 ms\n",
            "CPU times: user 2.88 ms, sys: 871 µs, total: 3.76 ms\n",
            "Wall time: 125 ms\n",
            "CPU times: user 7.09 ms, sys: 0 ns, total: 7.09 ms\n",
            "Wall time: 193 ms\n",
            "CPU times: user 3.26 ms, sys: 69 µs, total: 3.32 ms\n",
            "Wall time: 125 ms\n",
            "CPU times: user 3.99 ms, sys: 188 µs, total: 4.17 ms\n",
            "Wall time: 194 ms\n",
            "CPU times: user 3.6 ms, sys: 0 ns, total: 3.6 ms\n",
            "Wall time: 180 ms\n",
            "CPU times: user 4.42 ms, sys: 0 ns, total: 4.42 ms\n",
            "Wall time: 138 ms\n",
            "CPU times: user 5.92 ms, sys: 201 µs, total: 6.12 ms\n",
            "Wall time: 227 ms\n"
          ]
        }
      ]
    },
    {
      "cell_type": "markdown",
      "source": [
        "###Usando timeit"
      ],
      "metadata": {
        "id": "ngVxgPH11NLR"
      }
    },
    {
      "cell_type": "code",
      "source": [
        "timeit_pyspark = timeit.Timer(\n",
        "    stmt='dataframe_pyspark(path)',\n",
        "    setup='from __main__ import dataframe_pyspark',\n",
        "    globals={'path': caminho})"
      ],
      "metadata": {
        "id": "XoZWoZBz1NLR"
      },
      "execution_count": null,
      "outputs": []
    },
    {
      "cell_type": "code",
      "source": [
        "for _ in range(num_iteracao):\n",
        "  tempo_pyspark = timeit_pyspark.timeit(1)\n",
        "  lista_tempo_leitura.append(tempo_pyspark)\n",
        "\n",
        "print(lista_tempo_leitura)"
      ],
      "metadata": {
        "id": "CMJSg-Cu1NLR",
        "colab": {
          "base_uri": "https://localhost:8080/"
        },
        "outputId": "9dcb01ee-ba09-4471-e5eb-816396101068"
      },
      "execution_count": null,
      "outputs": [
        {
          "output_type": "stream",
          "name": "stdout",
          "text": [
            "[0.133997516000818, 0.2227941919991281, 0.24201323499983118, 0.20035860999996657, 0.3320323380012269, 0.12074144100006379, 0.2269560740005545, 0.1324282690002292, 0.1886748090000765, 0.16296214599969971, 0.22597095899982378, 0.250262630999714, 0.09880353500011552, 0.20683688299868663, 0.22394320700004755, 0.13523490300030971, 0.22412902799987933, 0.09930841900131782, 0.14318669299973408, 0.18086075899918796, 0.12461657299900253, 0.20954905500002496, 0.10682504500073264, 0.2169570299993211, 0.09966809400066268, 0.1544978780002566, 0.16962419000083173, 0.13912479099963093, 0.272962868999457, 0.11152803499862785, 0.18629052599862916, 0.13699018800070917]\n"
          ]
        }
      ]
    },
    {
      "cell_type": "code",
      "source": [
        "tempos_colab_timeit_json_2_5m_pyspark = \"tempos_colab_timeit_2_5m_pyspark.json\"\n",
        "\n",
        "# Escreve os resultados em um arquivo JSON\n",
        "with open(tempos_colab_timeit_json_2_5m_pyspark, \"w\") as arquivo_json:\n",
        "    json.dump(lista_tempo_leitura, arquivo_json)\n",
        "\n",
        "print(\"Os resultados foram salvos em:\", tempos_colab_timeit_json_2_5m_pyspark)\n",
        "lista_tempo_leitura = []"
      ],
      "metadata": {
        "id": "RaJt37-n1NLR",
        "colab": {
          "base_uri": "https://localhost:8080/"
        },
        "outputId": "2781cab4-8842-443f-8fbf-4db2c43ed807"
      },
      "execution_count": null,
      "outputs": [
        {
          "output_type": "stream",
          "name": "stdout",
          "text": [
            "Os resultados foram salvos em: tempos_colab_timeit_2_5m_pyspark.json\n"
          ]
        }
      ]
    },
    {
      "cell_type": "markdown",
      "metadata": {
        "id": "cRb9uJrP2yaP"
      },
      "source": [
        "# Tmax 30s"
      ]
    },
    {
      "cell_type": "code",
      "execution_count": null,
      "metadata": {
        "id": "tXyTDpIO2yaa",
        "colab": {
          "base_uri": "https://localhost:8080/"
        },
        "outputId": "ed7d0185-249a-46f2-85f4-0125747e36cf"
      },
      "outputs": [
        {
          "output_type": "stream",
          "name": "stdout",
          "text": [
            "--2024-05-04 16:32:31--  https://biogeo.ucdavis.edu/data/worldclim/v2.1/base/wc2.1_30s_tmax.zip\n",
            "Resolving biogeo.ucdavis.edu (biogeo.ucdavis.edu)... 128.120.228.172\n",
            "Connecting to biogeo.ucdavis.edu (biogeo.ucdavis.edu)|128.120.228.172|:443... connected.\n",
            "HTTP request sent, awaiting response... 302 Found\n",
            "Location: https://data.biogeo.ucdavis.edu/data/worldclim/v2.1/base/wc2.1_30s_tmax.zip [following]\n",
            "--2024-05-04 16:32:32--  https://data.biogeo.ucdavis.edu/data/worldclim/v2.1/base/wc2.1_30s_tmax.zip\n",
            "Resolving data.biogeo.ucdavis.edu (data.biogeo.ucdavis.edu)... 128.120.228.172\n",
            "Connecting to data.biogeo.ucdavis.edu (data.biogeo.ucdavis.edu)|128.120.228.172|:443... connected.\n",
            "HTTP request sent, awaiting response... 200 OK\n",
            "Length: 4382209564 (4.1G) [application/zip]\n",
            "Saving to: ‘wc2.1_30s_tmax.zip’\n",
            "\n",
            "wc2.1_30s_tmax.zip  100%[===================>]   4.08G  40.1MB/s    in 1m 47s  \n",
            "\n",
            "2024-05-04 16:34:19 (38.9 MB/s) - ‘wc2.1_30s_tmax.zip’ saved [4382209564/4382209564]\n",
            "\n",
            "Archive:  wc2.1_30s_tmax.zip\n",
            "  inflating: wc2.1_30s_tmax_01.tif   \n",
            "  inflating: wc2.1_30s_tmax_02.tif   \n",
            "  inflating: wc2.1_30s_tmax_03.tif   \n",
            "  inflating: wc2.1_30s_tmax_04.tif   \n",
            "  inflating: wc2.1_30s_tmax_05.tif   \n",
            "  inflating: wc2.1_30s_tmax_06.tif   \n",
            "  inflating: wc2.1_30s_tmax_07.tif   \n",
            "  inflating: wc2.1_30s_tmax_08.tif   \n",
            "  inflating: wc2.1_30s_tmax_09.tif   \n",
            "  inflating: wc2.1_30s_tmax_10.tif   \n",
            "  inflating: wc2.1_30s_tmax_11.tif   \n",
            "  inflating: wc2.1_30s_tmax_12.tif   \n"
          ]
        }
      ],
      "source": [
        "!wget https://biogeo.ucdavis.edu/data/worldclim/v2.1/base/wc2.1_30s_tmax.zip\n",
        "!unzip -o wc2.1_30s_tmax.zip"
      ]
    },
    {
      "cell_type": "code",
      "execution_count": null,
      "metadata": {
        "colab": {
          "base_uri": "https://localhost:8080/"
        },
        "outputId": "1d2e8855-61aa-4248-a540-00db74ae714f",
        "id": "SYU3ZlBC2yaa"
      },
      "outputs": [
        {
          "output_type": "stream",
          "name": "stdout",
          "text": [
            "[2024-05-04 04:35:37 - INFO] - Getting geotransform and data...\n",
            "[2024-05-04 04:35:58 - INFO] - Getting XYZ data...\n",
            "^C\n"
          ]
        }
      ],
      "source": [
        "!raster2xyz wc2.1_30s_tmax_01.tif wc2.1_30s_tmax_01.csv"
      ]
    },
    {
      "cell_type": "code",
      "execution_count": null,
      "metadata": {
        "id": "PKI4632b2yab"
      },
      "outputs": [],
      "source": [
        "caminho = 'wc2.1_30s_tmax_01.csv'"
      ]
    },
    {
      "cell_type": "markdown",
      "source": [
        "##Pandas"
      ],
      "metadata": {
        "id": "Wzg578ui2yab"
      }
    },
    {
      "cell_type": "code",
      "execution_count": null,
      "metadata": {
        "id": "Bd63_GiU2yab"
      },
      "outputs": [],
      "source": [
        "def dataframe_pandas(path):\n",
        "  df_pandas = None\n",
        "  df_pandas = pd.read_csv(path)"
      ]
    },
    {
      "cell_type": "markdown",
      "source": [
        "###Usando %time"
      ],
      "metadata": {
        "id": "dkKbg-KS2yac"
      }
    },
    {
      "cell_type": "code",
      "execution_count": null,
      "metadata": {
        "id": "GPDNTmKl2yac"
      },
      "outputs": [],
      "source": [
        "for _ in range(num_iteracao):\n",
        "  %time dataframe_pandas(caminho)"
      ]
    },
    {
      "cell_type": "markdown",
      "source": [
        "###Usando timeit"
      ],
      "metadata": {
        "id": "PUSv_KIk2yac"
      }
    },
    {
      "cell_type": "code",
      "source": [
        "timeit_pandas = timeit.Timer(\n",
        "    stmt='dataframe_pandas(path)',\n",
        "    setup='from __main__ import dataframe_pandas',\n",
        "    globals={'path': caminho})"
      ],
      "metadata": {
        "id": "0daQ95jb2yac"
      },
      "execution_count": null,
      "outputs": []
    },
    {
      "cell_type": "code",
      "source": [
        "for _ in range(num_iteracao):\n",
        "  tempo_pandas = timeit_pandas.timeit(1)\n",
        "  lista_tempo_leitura.append(tempo_pandas)\n",
        "\n",
        "print(lista_tempo_leitura)\n"
      ],
      "metadata": {
        "id": "Z70iG96M2yad"
      },
      "execution_count": null,
      "outputs": []
    },
    {
      "cell_type": "code",
      "source": [
        "tempos_colab_timeit_json_30s_pandas = \"tempos_colab_timeit_30s_pandas.json\"\n",
        "\n",
        "# Escreve os resultados em um arquivo JSON\n",
        "with open(tempos_colab_timeit_json_30s_pandas, \"w\") as arquivo_json:\n",
        "    json.dump(lista_tempo_leitura, arquivo_json)\n",
        "\n",
        "print(\"Os resultados foram salvos em:\", tempos_colab_timeit_json_30s_pandas)\n",
        "lista_tempo_leitura = []"
      ],
      "metadata": {
        "id": "AX6ibP2a2yad"
      },
      "execution_count": null,
      "outputs": []
    },
    {
      "cell_type": "markdown",
      "source": [
        "##PySpark"
      ],
      "metadata": {
        "id": "ZiG8uR8J2yad"
      }
    },
    {
      "cell_type": "code",
      "source": [
        "def dataframe_pyspark(path):\n",
        "  df_spark = None\n",
        "  df_spark = spark.read.csv(caminho, header=True)"
      ],
      "metadata": {
        "id": "7IJXgHNX2yad"
      },
      "execution_count": null,
      "outputs": []
    },
    {
      "cell_type": "markdown",
      "source": [
        "###Usando %time"
      ],
      "metadata": {
        "id": "VnjCaxCO2yae"
      }
    },
    {
      "cell_type": "code",
      "source": [
        "for _ in range(num_iteracao):\n",
        "  %time dataframe_pyspark(caminho)"
      ],
      "metadata": {
        "id": "8DhPUdU42yae"
      },
      "execution_count": null,
      "outputs": []
    },
    {
      "cell_type": "markdown",
      "source": [
        "###Usando timeit"
      ],
      "metadata": {
        "id": "dMEgklw_2yae"
      }
    },
    {
      "cell_type": "code",
      "source": [
        "timeit_pyspark = timeit.Timer(\n",
        "    stmt='dataframe_pyspark(path)',\n",
        "    setup='from __main__ import dataframe_pyspark',\n",
        "    globals={'path': caminho})"
      ],
      "metadata": {
        "id": "sJalG4Ed2yae"
      },
      "execution_count": null,
      "outputs": []
    },
    {
      "cell_type": "code",
      "source": [
        "for _ in range(num_iteracao):\n",
        "  tempo_pyspark = timeit_pyspark.timeit(1)\n",
        "  lista_tempo_leitura.append(tempo_pyspark)\n",
        "\n",
        "print(lista_tempo_leitura)"
      ],
      "metadata": {
        "id": "1AyxgaZK2yae"
      },
      "execution_count": null,
      "outputs": []
    },
    {
      "cell_type": "code",
      "source": [
        "tempos_colab_timeit_json_30s_pyspark = \"tempos_colab_timeit_30s_pyspark.json\"\n",
        "\n",
        "# Escreve os resultados em um arquivo JSON\n",
        "with open(tempos_colab_timeit_json_30s_pyspark, \"w\") as arquivo_json:\n",
        "    json.dump(lista_tempo_leitura, arquivo_json)\n",
        "\n",
        "print(\"Os resultados foram salvos em:\", tempos_colab_timeit_json_30s_pyspark)\n",
        "lista_tempo_leitura = []"
      ],
      "metadata": {
        "id": "Nw6y8OVH2yaf"
      },
      "execution_count": null,
      "outputs": []
    },
    {
      "cell_type": "code",
      "source": [],
      "metadata": {
        "id": "zgTy3dAsc29V"
      },
      "execution_count": null,
      "outputs": []
    }
  ],
  "metadata": {
    "colab": {
      "provenance": []
    },
    "kernelspec": {
      "display_name": "Python 3",
      "name": "python3"
    },
    "language_info": {
      "name": "python"
    }
  },
  "nbformat": 4,
  "nbformat_minor": 0
}